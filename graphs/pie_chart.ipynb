{
 "cells": [
  {
   "cell_type": "code",
   "execution_count": 1,
   "metadata": {},
   "outputs": [],
   "source": [
    "# %matplotlib notebook "
   ]
  },
  {
   "cell_type": "code",
   "execution_count": 2,
   "metadata": {},
   "outputs": [],
   "source": [
    "import matplotlib.pyplot as plt\n",
    "import pandas as pd\n",
    "import numpy as np"
   ]
  },
  {
   "cell_type": "code",
   "execution_count": 3,
   "metadata": {},
   "outputs": [
    {
     "data": {
      "text/html": [
       "<div>\n",
       "<style scoped>\n",
       "    .dataframe tbody tr th:only-of-type {\n",
       "        vertical-align: middle;\n",
       "    }\n",
       "\n",
       "    .dataframe tbody tr th {\n",
       "        vertical-align: top;\n",
       "    }\n",
       "\n",
       "    .dataframe thead th {\n",
       "        text-align: right;\n",
       "    }\n",
       "</style>\n",
       "<table border=\"1\" class=\"dataframe\">\n",
       "  <thead>\n",
       "    <tr style=\"text-align: right;\">\n",
       "      <th></th>\n",
       "      <th>Name</th>\n",
       "      <th>id</th>\n",
       "      <th>Alcohol By Volume</th>\n",
       "      <th>International Bitterness Units</th>\n",
       "      <th>Standard Reference Method</th>\n",
       "      <th>Style</th>\n",
       "      <th>Category</th>\n",
       "      <th>Brewer</th>\n",
       "      <th>City</th>\n",
       "      <th>State</th>\n",
       "      <th>Latitude</th>\n",
       "      <th>Longitude</th>\n",
       "      <th>Region</th>\n",
       "    </tr>\n",
       "  </thead>\n",
       "  <tbody>\n",
       "    <tr>\n",
       "      <th>0</th>\n",
       "      <td>Possession Porter</td>\n",
       "      <td>723</td>\n",
       "      <td>5.6</td>\n",
       "      <td>0</td>\n",
       "      <td>0</td>\n",
       "      <td>Porter</td>\n",
       "      <td>Irish Ale</td>\n",
       "      <td>Diamond Knot Brewery &amp; Alehouse</td>\n",
       "      <td>Mukilteo</td>\n",
       "      <td>Washington</td>\n",
       "      <td>47.9485</td>\n",
       "      <td>-122.3050</td>\n",
       "      <td>West</td>\n",
       "    </tr>\n",
       "    <tr>\n",
       "      <th>1</th>\n",
       "      <td>Free Bike Amber</td>\n",
       "      <td>742</td>\n",
       "      <td>4.5</td>\n",
       "      <td>0</td>\n",
       "      <td>0</td>\n",
       "      <td>American-Style Amber/Red Ale</td>\n",
       "      <td>North American Ale</td>\n",
       "      <td>Skagit River Brewing</td>\n",
       "      <td>Mount Vernon</td>\n",
       "      <td>Washington</td>\n",
       "      <td>48.4192</td>\n",
       "      <td>-122.3350</td>\n",
       "      <td>West</td>\n",
       "    </tr>\n",
       "    <tr>\n",
       "      <th>2</th>\n",
       "      <td>Potrero ESB</td>\n",
       "      <td>3982</td>\n",
       "      <td>5.2</td>\n",
       "      <td>0</td>\n",
       "      <td>0</td>\n",
       "      <td>Special Bitter or Best Bitter</td>\n",
       "      <td>British Ale</td>\n",
       "      <td>21st Amendment Brewery Cafe</td>\n",
       "      <td>San Francisco</td>\n",
       "      <td>California</td>\n",
       "      <td>37.7825</td>\n",
       "      <td>-122.3930</td>\n",
       "      <td>West</td>\n",
       "    </tr>\n",
       "    <tr>\n",
       "      <th>3</th>\n",
       "      <td>Twisted Kilt Scotch Ale</td>\n",
       "      <td>4221</td>\n",
       "      <td>5.0</td>\n",
       "      <td>0</td>\n",
       "      <td>0</td>\n",
       "      <td>Scotch Ale</td>\n",
       "      <td>British Ale</td>\n",
       "      <td>Thirsty Dog Brewing</td>\n",
       "      <td>Akron</td>\n",
       "      <td>Ohio</td>\n",
       "      <td>41.0689</td>\n",
       "      <td>-81.5172</td>\n",
       "      <td>Midwest</td>\n",
       "    </tr>\n",
       "    <tr>\n",
       "      <th>4</th>\n",
       "      <td>HarvestÃ¶r Fresh Hop Ale</td>\n",
       "      <td>5243</td>\n",
       "      <td>7.2</td>\n",
       "      <td>0</td>\n",
       "      <td>0</td>\n",
       "      <td>American-Style Pale Ale</td>\n",
       "      <td>North American Ale</td>\n",
       "      <td>Lift Bridge Brewery</td>\n",
       "      <td>Stillwater</td>\n",
       "      <td>Minnesota</td>\n",
       "      <td>45.0565</td>\n",
       "      <td>-92.8222</td>\n",
       "      <td>Midwest</td>\n",
       "    </tr>\n",
       "  </tbody>\n",
       "</table>\n",
       "</div>"
      ],
      "text/plain": [
       "                       Name    id  Alcohol By Volume  \\\n",
       "0         Possession Porter   723                5.6   \n",
       "1           Free Bike Amber   742                4.5   \n",
       "2               Potrero ESB  3982                5.2   \n",
       "3   Twisted Kilt Scotch Ale  4221                5.0   \n",
       "4  HarvestÃ¶r Fresh Hop Ale  5243                7.2   \n",
       "\n",
       "   International Bitterness Units  Standard Reference Method  \\\n",
       "0                               0                          0   \n",
       "1                               0                          0   \n",
       "2                               0                          0   \n",
       "3                               0                          0   \n",
       "4                               0                          0   \n",
       "\n",
       "                           Style            Category  \\\n",
       "0                         Porter           Irish Ale   \n",
       "1   American-Style Amber/Red Ale  North American Ale   \n",
       "2  Special Bitter or Best Bitter         British Ale   \n",
       "3                     Scotch Ale         British Ale   \n",
       "4        American-Style Pale Ale  North American Ale   \n",
       "\n",
       "                            Brewer           City       State  Latitude  \\\n",
       "0  Diamond Knot Brewery & Alehouse       Mukilteo  Washington   47.9485   \n",
       "1             Skagit River Brewing   Mount Vernon  Washington   48.4192   \n",
       "2      21st Amendment Brewery Cafe  San Francisco  California   37.7825   \n",
       "3              Thirsty Dog Brewing          Akron        Ohio   41.0689   \n",
       "4              Lift Bridge Brewery     Stillwater   Minnesota   45.0565   \n",
       "\n",
       "   Longitude   Region  \n",
       "0  -122.3050     West  \n",
       "1  -122.3350     West  \n",
       "2  -122.3930     West  \n",
       "3   -81.5172  Midwest  \n",
       "4   -92.8222  Midwest  "
      ]
     },
     "execution_count": 3,
     "metadata": {},
     "output_type": "execute_result"
    }
   ],
   "source": [
    "# Read csv file with pandas\n",
    "path = \"../output_data/craft_beer_nv.csv\"\n",
    "df = pd.read_csv(path)\n",
    "df.head(5)"
   ]
  },
  {
   "cell_type": "code",
   "execution_count": 4,
   "metadata": {},
   "outputs": [
    {
     "data": {
      "text/plain": [
       "0       True\n",
       "1       True\n",
       "2       True\n",
       "3       True\n",
       "4       True\n",
       "        ... \n",
       "1878    True\n",
       "1879    True\n",
       "1880    True\n",
       "1881    True\n",
       "1882    True\n",
       "Name: Region, Length: 1883, dtype: bool"
      ]
     },
     "execution_count": 4,
     "metadata": {},
     "output_type": "execute_result"
    }
   ],
   "source": [
    "df['Region'] != 'Unknown'"
   ]
  },
  {
   "cell_type": "code",
   "execution_count": 5,
   "metadata": {},
   "outputs": [
    {
     "data": {
      "text/plain": [
       "Region\n",
       "Midwest      393\n",
       "Northeast    663\n",
       "Southeast     87\n",
       "Southwest     83\n",
       "West         652\n",
       "Name: Brewer, dtype: int64"
      ]
     },
     "execution_count": 5,
     "metadata": {},
     "output_type": "execute_result"
    }
   ],
   "source": [
    "no_unknown_df = df.loc[df['Region'] != 'Unknown']\n",
    "region_df = no_unknown_df.groupby(\"Region\")[\"Brewer\"].count()\n",
    "region_df"
   ]
  },
  {
   "cell_type": "code",
   "execution_count": 9,
   "metadata": {},
   "outputs": [
    {
     "data": {
      "image/png": "[encoded data removed]",
      "text/plain": [
       "<Figure size 432x288 with 1 Axes>"
      ]
     },
     "metadata": {},
     "output_type": "display_data"
    }
   ],
   "source": [
    "# Generating list for labels and colors \n",
    "colors = [\"red\", \"blue\", \"green\", \"orange\", \"yellow\"]\n",
    "labels = [\"Midwest\", \"Northeast\", \"Southeast\", \"Southwest\", \"West\"]\n",
    "explode = (0.2, 0.2, 0.2, 0.2, 0.2) \n",
    "\n",
    "# Plotting a pie chart using matplotlib\n",
    "plt.pie(region_df,labels = labels, explode=explode, colors=colors, shadow=True, autopct=\"%1.1f%%\")\n",
    "plt.title(\"Percentage of Breweries per Region\")\n",
    "plt.savefig(\"../Images/pie_chart_region.png\")\n",
    "plt.show()"
   ]
  },
  {
   "cell_type": "code",
   "execution_count": null,
   "metadata": {},
   "outputs": [],
   "source": []
  }
 ],
 "metadata": {
  "kernelspec": {
   "display_name": "Python 3",
   "language": "python",
   "name": "python3"
  },
  "language_info": {
   "codemirror_mode": {
    "name": "ipython",
    "version": 3
   },
   "file_extension": ".py",
   "mimetype": "text/x-python",
   "name": "python",
   "nbconvert_exporter": "python",
   "pygments_lexer": "ipython3",
   "version": "3.7.6"
  }
 },
 "nbformat": 4,
 "nbformat_minor": 4
}
